{
 "cells": [
  {
   "cell_type": "code",
   "execution_count": 1,
   "id": "79405b8a",
   "metadata": {},
   "outputs": [],
   "source": [
    "import torch\n",
    "import numpy as np\n",
    "import matplotlib.pyplot as plt\n",
    "from ieee118_bus import keep_importent_info\n"
   ]
  },
  {
   "cell_type": "code",
   "execution_count": 2,
   "id": "107cf085",
   "metadata": {},
   "outputs": [],
   "source": [
    "Vfl, Vfg, Vf, p, q, gsh, bsh, v, th, lines, g, b, B = keep_importent_info();"
   ]
  },
  {
   "cell_type": "code",
   "execution_count": 27,
   "id": "72859cd7",
   "metadata": {},
   "outputs": [],
   "source": [
    "# Incidence matrix\n",
    "Bout = np.zeros(shape = (len(Vf), len(g))) \n",
    "Bin  = np.zeros(shape = (len(Vf), len(g))) \n",
    "\n",
    "for i in range(len(g)):\n",
    "    iout = lines[i,0] - 1\n",
    "    iin  = lines[i,1] - 1\n",
    "    \n",
    "    Bout[iout, i] = 1\n",
    "    Bin[iin, i] = 1\n",
    "   \n",
    "Bplus = Bin + Bout\n",
    "Bminus = Bin - Bout\n",
    "\n",
    "# plt.spy(Bin)\n",
    "# print( np.count_nonzero(Bplus), np.count_nonzero(Bminus))"
   ]
  },
  {
   "cell_type": "code",
   "execution_count": 30,
   "id": "1251dd86",
   "metadata": {},
   "outputs": [],
   "source": [
    "# admittance vectors\n",
    "# admittance of lines\n",
    "y = g + 1j * b\n",
    "\n",
    "# shunt admittance of buses\n",
    "ysh = gsh + 1j * bsh\n",
    "\n",
    "# admittance matrix\n",
    "Y = np.einsum('ik,k,jk->ij', Bminus, y, Bminus) + np.diag(ysh)\n"
   ]
  },
  {
   "cell_type": "code",
   "execution_count": null,
   "id": "463e564f",
   "metadata": {},
   "outputs": [],
   "source": []
  }
 ],
 "metadata": {
  "kernelspec": {
   "display_name": "Python 3 (ipykernel)",
   "language": "python",
   "name": "python3"
  },
  "language_info": {
   "codemirror_mode": {
    "name": "ipython",
    "version": 3
   },
   "file_extension": ".py",
   "mimetype": "text/x-python",
   "name": "python",
   "nbconvert_exporter": "python",
   "pygments_lexer": "ipython3",
   "version": "3.9.12"
  }
 },
 "nbformat": 4,
 "nbformat_minor": 5
}
